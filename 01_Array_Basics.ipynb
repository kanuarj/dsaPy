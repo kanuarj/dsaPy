{
 "cells": [
  {
   "cell_type": "markdown",
   "id": "detected-drain",
   "metadata": {},
   "source": [
    "If you like my content please subscribe to my [YouTube](https://www.youtube.com/@RaunakJoshi/) channel."
   ]
  },
  {
   "cell_type": "markdown",
   "id": "uniform-campbell",
   "metadata": {},
   "source": [
    "Array is essentially a collection of elements"
   ]
  },
  {
   "cell_type": "code",
   "execution_count": 1,
   "id": "careful-video",
   "metadata": {},
   "outputs": [],
   "source": [
    "arr = [1, 2, 3]"
   ]
  },
  {
   "cell_type": "code",
   "execution_count": 2,
   "id": "governmental-pierce",
   "metadata": {},
   "outputs": [
    {
     "data": {
      "text/plain": [
       "[1, 2, 3]"
      ]
     },
     "execution_count": 2,
     "metadata": {},
     "output_type": "execute_result"
    }
   ],
   "source": [
    "arr"
   ]
  },
  {
   "cell_type": "code",
   "execution_count": 3,
   "id": "short-tampa",
   "metadata": {},
   "outputs": [],
   "source": [
    "arr_str = ['This', 'is', 'Python', 'tutorial']"
   ]
  },
  {
   "cell_type": "code",
   "execution_count": 4,
   "id": "opening-tribune",
   "metadata": {},
   "outputs": [
    {
     "data": {
      "text/plain": [
       "['This', 'is', 'Python', 'tutorial']"
      ]
     },
     "execution_count": 4,
     "metadata": {},
     "output_type": "execute_result"
    }
   ],
   "source": [
    "arr_str"
   ]
  },
  {
   "cell_type": "code",
   "execution_count": 5,
   "id": "biological-campbell",
   "metadata": {},
   "outputs": [],
   "source": [
    "arr_boolean = [True, False]"
   ]
  },
  {
   "cell_type": "code",
   "execution_count": 6,
   "id": "organizational-belize",
   "metadata": {},
   "outputs": [
    {
     "data": {
      "text/plain": [
       "[True, False]"
      ]
     },
     "execution_count": 6,
     "metadata": {},
     "output_type": "execute_result"
    }
   ],
   "source": [
    "arr_boolean"
   ]
  },
  {
   "cell_type": "code",
   "execution_count": 7,
   "id": "interesting-tablet",
   "metadata": {},
   "outputs": [
    {
     "data": {
      "text/plain": [
       "[1, 2, 3]"
      ]
     },
     "execution_count": 7,
     "metadata": {},
     "output_type": "execute_result"
    }
   ],
   "source": [
    "arr"
   ]
  },
  {
   "cell_type": "code",
   "execution_count": 8,
   "id": "representative-arrival",
   "metadata": {},
   "outputs": [
    {
     "data": {
      "text/plain": [
       "1"
      ]
     },
     "execution_count": 8,
     "metadata": {},
     "output_type": "execute_result"
    }
   ],
   "source": [
    "arr[0]"
   ]
  },
  {
   "cell_type": "code",
   "execution_count": 9,
   "id": "egyptian-personal",
   "metadata": {},
   "outputs": [],
   "source": [
    "arr = [1, 2, 4, 6, 9, 23234, 2323, 56]"
   ]
  },
  {
   "cell_type": "code",
   "execution_count": 10,
   "id": "distant-toilet",
   "metadata": {},
   "outputs": [
    {
     "data": {
      "text/plain": [
       "[1, 2, 4, 6, 9, 23234, 2323, 56]"
      ]
     },
     "execution_count": 10,
     "metadata": {},
     "output_type": "execute_result"
    }
   ],
   "source": [
    "arr"
   ]
  },
  {
   "cell_type": "code",
   "execution_count": 11,
   "id": "effective-latvia",
   "metadata": {},
   "outputs": [
    {
     "data": {
      "text/plain": [
       "9"
      ]
     },
     "execution_count": 11,
     "metadata": {},
     "output_type": "execute_result"
    }
   ],
   "source": [
    "arr[4]"
   ]
  },
  {
   "cell_type": "code",
   "execution_count": 12,
   "id": "equal-legislation",
   "metadata": {},
   "outputs": [],
   "source": [
    "arr.append(1223)"
   ]
  },
  {
   "cell_type": "code",
   "execution_count": 13,
   "id": "boring-reminder",
   "metadata": {},
   "outputs": [
    {
     "data": {
      "text/plain": [
       "[1, 2, 4, 6, 9, 23234, 2323, 56, 1223]"
      ]
     },
     "execution_count": 13,
     "metadata": {},
     "output_type": "execute_result"
    }
   ],
   "source": [
    "arr"
   ]
  },
  {
   "cell_type": "code",
   "execution_count": 14,
   "id": "functioning-lightning",
   "metadata": {},
   "outputs": [],
   "source": [
    "arr.remove(1223)"
   ]
  },
  {
   "cell_type": "code",
   "execution_count": 15,
   "id": "functioning-integration",
   "metadata": {},
   "outputs": [
    {
     "data": {
      "text/plain": [
       "[1, 2, 4, 6, 9, 23234, 2323, 56]"
      ]
     },
     "execution_count": 15,
     "metadata": {},
     "output_type": "execute_result"
    }
   ],
   "source": [
    "arr"
   ]
  },
  {
   "cell_type": "code",
   "execution_count": 16,
   "id": "excess-smooth",
   "metadata": {},
   "outputs": [],
   "source": [
    "arr.insert(0, 10)"
   ]
  },
  {
   "cell_type": "code",
   "execution_count": 17,
   "id": "designing-holly",
   "metadata": {},
   "outputs": [
    {
     "data": {
      "text/plain": [
       "[10, 1, 2, 4, 6, 9, 23234, 2323, 56]"
      ]
     },
     "execution_count": 17,
     "metadata": {},
     "output_type": "execute_result"
    }
   ],
   "source": [
    "arr"
   ]
  },
  {
   "cell_type": "code",
   "execution_count": 18,
   "id": "proper-publication",
   "metadata": {},
   "outputs": [],
   "source": [
    "arr.insert(4, 18)"
   ]
  },
  {
   "cell_type": "code",
   "execution_count": 19,
   "id": "permanent-trinidad",
   "metadata": {},
   "outputs": [
    {
     "data": {
      "text/plain": [
       "[10, 1, 2, 4, 18, 6, 9, 23234, 2323, 56]"
      ]
     },
     "execution_count": 19,
     "metadata": {},
     "output_type": "execute_result"
    }
   ],
   "source": [
    "arr"
   ]
  },
  {
   "cell_type": "code",
   "execution_count": 20,
   "id": "palestinian-probe",
   "metadata": {},
   "outputs": [],
   "source": [
    "arr = list()"
   ]
  },
  {
   "cell_type": "code",
   "execution_count": 21,
   "id": "statistical-house",
   "metadata": {},
   "outputs": [
    {
     "data": {
      "text/plain": [
       "[]"
      ]
     },
     "execution_count": 21,
     "metadata": {},
     "output_type": "execute_result"
    }
   ],
   "source": [
    "arr"
   ]
  },
  {
   "cell_type": "code",
   "execution_count": 22,
   "id": "dying-metabolism",
   "metadata": {},
   "outputs": [],
   "source": [
    "for i in range(10):\n",
    "    arr.append(i)"
   ]
  },
  {
   "cell_type": "code",
   "execution_count": 23,
   "id": "julian-branch",
   "metadata": {},
   "outputs": [
    {
     "data": {
      "text/plain": [
       "[0, 1, 2, 3, 4, 5, 6, 7, 8, 9]"
      ]
     },
     "execution_count": 23,
     "metadata": {},
     "output_type": "execute_result"
    }
   ],
   "source": [
    "arr"
   ]
  },
  {
   "cell_type": "code",
   "execution_count": 24,
   "id": "noted-sunset",
   "metadata": {},
   "outputs": [
    {
     "data": {
      "text/plain": [
       "9"
      ]
     },
     "execution_count": 24,
     "metadata": {},
     "output_type": "execute_result"
    }
   ],
   "source": [
    "max(arr)"
   ]
  },
  {
   "cell_type": "code",
   "execution_count": 25,
   "id": "waiting-mercy",
   "metadata": {},
   "outputs": [
    {
     "data": {
      "text/plain": [
       "0"
      ]
     },
     "execution_count": 25,
     "metadata": {},
     "output_type": "execute_result"
    }
   ],
   "source": [
    "min(arr)"
   ]
  },
  {
   "cell_type": "markdown",
   "id": "alternate-columbia",
   "metadata": {},
   "source": [
    "### Reversing Array"
   ]
  },
  {
   "cell_type": "code",
   "execution_count": 26,
   "id": "understanding-tuning",
   "metadata": {},
   "outputs": [
    {
     "data": {
      "text/plain": [
       "10"
      ]
     },
     "execution_count": 26,
     "metadata": {},
     "output_type": "execute_result"
    }
   ],
   "source": [
    "# Length of array\n",
    "len(arr)"
   ]
  },
  {
   "cell_type": "code",
   "execution_count": 28,
   "id": "hawaiian-skill",
   "metadata": {},
   "outputs": [],
   "source": [
    "start = 0\n",
    "end = len(arr)-1\n",
    "while start < end:\n",
    "    arr[start], arr[end] = arr[end], arr[start]\n",
    "    start += 1\n",
    "    end -= 1"
   ]
  },
  {
   "cell_type": "code",
   "execution_count": 29,
   "id": "communist-precipitation",
   "metadata": {},
   "outputs": [
    {
     "data": {
      "text/plain": [
       "[9, 8, 7, 6, 5, 4, 3, 2, 1, 0]"
      ]
     },
     "execution_count": 29,
     "metadata": {},
     "output_type": "execute_result"
    }
   ],
   "source": [
    "arr"
   ]
  },
  {
   "cell_type": "code",
   "execution_count": 30,
   "id": "satisfactory-shade",
   "metadata": {},
   "outputs": [],
   "source": [
    "# Inbuilt Method\n",
    "arr.reverse()"
   ]
  },
  {
   "cell_type": "code",
   "execution_count": 31,
   "id": "amazing-senate",
   "metadata": {},
   "outputs": [
    {
     "data": {
      "text/plain": [
       "[0, 1, 2, 3, 4, 5, 6, 7, 8, 9]"
      ]
     },
     "execution_count": 31,
     "metadata": {},
     "output_type": "execute_result"
    }
   ],
   "source": [
    "arr"
   ]
  },
  {
   "cell_type": "code",
   "execution_count": 32,
   "id": "chemical-nepal",
   "metadata": {},
   "outputs": [
    {
     "data": {
      "text/plain": [
       "[9, 8, 7, 6, 5, 4, 3, 2, 1, 0]"
      ]
     },
     "execution_count": 32,
     "metadata": {},
     "output_type": "execute_result"
    }
   ],
   "source": [
    "arr[::-1]"
   ]
  },
  {
   "cell_type": "markdown",
   "id": "golden-letter",
   "metadata": {},
   "source": [
    "### Maximum Element in an Array"
   ]
  },
  {
   "cell_type": "code",
   "execution_count": 47,
   "id": "decreased-editor",
   "metadata": {},
   "outputs": [
    {
     "data": {
      "text/plain": [
       "-9223372036854775807"
      ]
     },
     "execution_count": 47,
     "metadata": {},
     "output_type": "execute_result"
    }
   ],
   "source": [
    "import sys\n",
    "-sys.maxsize"
   ]
  },
  {
   "cell_type": "markdown",
   "id": "upper-scope",
   "metadata": {},
   "source": [
    "Logic ~ You will essentially take a number which is very small. Then compare the numbers in your array. Comparison of the number and dynamically you will update the number"
   ]
  },
  {
   "cell_type": "code",
   "execution_count": 48,
   "id": "underlying-cycle",
   "metadata": {},
   "outputs": [
    {
     "data": {
      "text/plain": [
       "[0, 1, 2, 3, 4, 5, 6, 7, 8, 9]"
      ]
     },
     "execution_count": 48,
     "metadata": {},
     "output_type": "execute_result"
    }
   ],
   "source": [
    "arr"
   ]
  },
  {
   "cell_type": "code",
   "execution_count": 56,
   "id": "harmful-address",
   "metadata": {},
   "outputs": [],
   "source": [
    "def maximumElementFinder (inputArray):\n",
    "    maxNumber = -sys.maxsize\n",
    "    for i in range (len(inputArray)):\n",
    "        if maxNumber < inputArray[i]:\n",
    "            maxNumber = inputArray[i]\n",
    "            \n",
    "    return maxNumber"
   ]
  },
  {
   "cell_type": "code",
   "execution_count": 57,
   "id": "instrumental-holly",
   "metadata": {},
   "outputs": [],
   "source": [
    "arr.append(14)"
   ]
  },
  {
   "cell_type": "code",
   "execution_count": 58,
   "id": "latter-singles",
   "metadata": {},
   "outputs": [],
   "source": [
    "outcome = maximumElementFinder (arr)"
   ]
  },
  {
   "cell_type": "code",
   "execution_count": 59,
   "id": "taken-appraisal",
   "metadata": {},
   "outputs": [
    {
     "data": {
      "text/plain": [
       "14"
      ]
     },
     "execution_count": 59,
     "metadata": {},
     "output_type": "execute_result"
    }
   ],
   "source": [
    "outcome"
   ]
  },
  {
   "cell_type": "code",
   "execution_count": 60,
   "id": "fresh-congress",
   "metadata": {},
   "outputs": [
    {
     "data": {
      "text/plain": [
       "14"
      ]
     },
     "execution_count": 60,
     "metadata": {},
     "output_type": "execute_result"
    }
   ],
   "source": [
    "max(arr)"
   ]
  },
  {
   "cell_type": "markdown",
   "id": "respective-hydrogen",
   "metadata": {},
   "source": [
    "### Minimum Number in an Array"
   ]
  },
  {
   "cell_type": "code",
   "execution_count": 61,
   "id": "alternate-entry",
   "metadata": {},
   "outputs": [],
   "source": [
    "def minElementFinder (inputArray):\n",
    "    minNumber = sys.maxsize\n",
    "    for i in range(len (inputArray)):\n",
    "        if minNumber > inputArray[i]:\n",
    "            minNumber = inputArray[i]\n",
    "            \n",
    "    return minNumber"
   ]
  },
  {
   "cell_type": "code",
   "execution_count": 67,
   "id": "outstanding-killing",
   "metadata": {},
   "outputs": [],
   "source": [
    "outcome = minElementFinder (arr)"
   ]
  },
  {
   "cell_type": "code",
   "execution_count": 65,
   "id": "classified-monitoring",
   "metadata": {},
   "outputs": [],
   "source": [
    "arr.remove(0)"
   ]
  },
  {
   "cell_type": "code",
   "execution_count": 68,
   "id": "demographic-infection",
   "metadata": {},
   "outputs": [
    {
     "data": {
      "text/plain": [
       "1"
      ]
     },
     "execution_count": 68,
     "metadata": {},
     "output_type": "execute_result"
    }
   ],
   "source": [
    "outcome"
   ]
  },
  {
   "cell_type": "code",
   "execution_count": 69,
   "id": "indie-amplifier",
   "metadata": {},
   "outputs": [
    {
     "data": {
      "text/plain": [
       "[1, 2, 3, 4, 5, 6, 7, 8, 9, 14, 14]"
      ]
     },
     "execution_count": 69,
     "metadata": {},
     "output_type": "execute_result"
    }
   ],
   "source": [
    "arr"
   ]
  },
  {
   "cell_type": "markdown",
   "id": "fewer-ontario",
   "metadata": {},
   "source": [
    "### Find index of the element in the array"
   ]
  },
  {
   "cell_type": "code",
   "execution_count": 70,
   "id": "funny-equation",
   "metadata": {},
   "outputs": [],
   "source": [
    "def searchElement (inputArray, key):\n",
    "    for i in range (len(inputArray)):\n",
    "        if inputArray[i] == key:\n",
    "            return i\n",
    "    return -1"
   ]
  },
  {
   "cell_type": "code",
   "execution_count": 71,
   "id": "functional-knock",
   "metadata": {},
   "outputs": [
    {
     "data": {
      "text/plain": [
       "[1, 2, 3, 4, 5, 6, 7, 8, 9, 14, 14]"
      ]
     },
     "execution_count": 71,
     "metadata": {},
     "output_type": "execute_result"
    }
   ],
   "source": [
    "arr"
   ]
  },
  {
   "cell_type": "code",
   "execution_count": 72,
   "id": "sharing-greek",
   "metadata": {},
   "outputs": [],
   "source": [
    "outcome = searchElement (arr, 6)"
   ]
  },
  {
   "cell_type": "code",
   "execution_count": 74,
   "id": "solved-dialogue",
   "metadata": {},
   "outputs": [
    {
     "name": "stdout",
     "output_type": "stream",
     "text": [
      "The 5 is the index of the element\n"
     ]
    }
   ],
   "source": [
    "print (f'The {outcome} is the index of the element')"
   ]
  },
  {
   "cell_type": "markdown",
   "id": "downtown-blink",
   "metadata": {},
   "source": [
    "### Slicing"
   ]
  },
  {
   "cell_type": "code",
   "execution_count": 75,
   "id": "unable-meeting",
   "metadata": {},
   "outputs": [
    {
     "data": {
      "text/plain": [
       "[1, 2, 3, 4, 5, 6, 7, 8, 9, 14, 14]"
      ]
     },
     "execution_count": 75,
     "metadata": {},
     "output_type": "execute_result"
    }
   ],
   "source": [
    "arr"
   ]
  },
  {
   "cell_type": "code",
   "execution_count": 79,
   "id": "passing-syndication",
   "metadata": {},
   "outputs": [
    {
     "data": {
      "text/plain": [
       "[7, 8, 9, 14, 14]"
      ]
     },
     "execution_count": 79,
     "metadata": {},
     "output_type": "execute_result"
    }
   ],
   "source": [
    "arr[-5:]"
   ]
  },
  {
   "cell_type": "code",
   "execution_count": 80,
   "id": "ambient-morrison",
   "metadata": {},
   "outputs": [
    {
     "data": {
      "text/plain": [
       "[1, 2, 3]"
      ]
     },
     "execution_count": 80,
     "metadata": {},
     "output_type": "execute_result"
    }
   ],
   "source": [
    "arr[:3]"
   ]
  },
  {
   "cell_type": "code",
   "execution_count": 81,
   "id": "amazing-brass",
   "metadata": {},
   "outputs": [
    {
     "data": {
      "text/plain": [
       "[4, 5, 6]"
      ]
     },
     "execution_count": 81,
     "metadata": {},
     "output_type": "execute_result"
    }
   ],
   "source": [
    "arr[3:6]"
   ]
  },
  {
   "cell_type": "code",
   "execution_count": 83,
   "id": "moving-marker",
   "metadata": {},
   "outputs": [
    {
     "data": {
      "text/plain": [
       "[6, 7, 8]"
      ]
     },
     "execution_count": 83,
     "metadata": {},
     "output_type": "execute_result"
    }
   ],
   "source": [
    "arr[-6:-3]"
   ]
  },
  {
   "cell_type": "markdown",
   "id": "partial-electric",
   "metadata": {},
   "source": [
    "### 1920. Build Array from Permutation"
   ]
  },
  {
   "cell_type": "markdown",
   "id": "mathematical-classic",
   "metadata": {},
   "source": [
    "https://leetcode.com/problems/build-array-from-permutation/"
   ]
  },
  {
   "cell_type": "code",
   "execution_count": 89,
   "id": "careful-information",
   "metadata": {},
   "outputs": [
    {
     "name": "stdout",
     "output_type": "stream",
     "text": [
      "[0, 1, 2, 4, 5, 3]\n"
     ]
    }
   ],
   "source": [
    "class Solution:\n",
    "    def buildArray(self, nums: list()) -> list():\n",
    "        result = list()\n",
    "        for i in range(len(nums)):\n",
    "            holder = nums[i]\n",
    "            result.append(nums[holder])\n",
    "        return result\n",
    "    \n",
    "if __name__ == '__main__':\n",
    "    nums = [0,2,1,5,3,4]\n",
    "    s = Solution()\n",
    "    output = s.buildArray (nums)\n",
    "    print(output)"
   ]
  },
  {
   "cell_type": "markdown",
   "id": "double-retreat",
   "metadata": {},
   "source": [
    "### 1929. Concatenation of Array"
   ]
  },
  {
   "cell_type": "markdown",
   "id": "fifteen-dryer",
   "metadata": {},
   "source": [
    "https://leetcode.com/problems/concatenation-of-array/"
   ]
  },
  {
   "cell_type": "code",
   "execution_count": 91,
   "id": "backed-protection",
   "metadata": {},
   "outputs": [
    {
     "name": "stdout",
     "output_type": "stream",
     "text": [
      "[1, 2, 1, 1, 2, 1]\n"
     ]
    }
   ],
   "source": [
    "class Solution:\n",
    "    def getConcatenation(self, nums):\n",
    "        outcome = list()\n",
    "        for i in range(len(nums)):\n",
    "            outcome.append(nums[i])\n",
    "            \n",
    "        for j in range(len(nums)):\n",
    "            outcome.append(nums[j])\n",
    "\n",
    "        return outcome\n",
    "        \n",
    "#         list_1, list_2, outcome = [], [], []\n",
    "#         for i in range(0, len(nums)):\n",
    "#             list_1.append(nums[i])\n",
    "#             list_2.append(nums[i])\n",
    "            \n",
    "#         outcome = list_1 + list_2\n",
    "#         return outcome\n",
    "\n",
    "#         return nums * 2\n",
    "\n",
    "\n",
    "    \n",
    "if __name__ == '__main__':\n",
    "    nums = [1,2,1]\n",
    "    s = Solution()\n",
    "    output = s.getConcatenation(nums)\n",
    "    print(output)"
   ]
  },
  {
   "cell_type": "markdown",
   "id": "sensitive-knowing",
   "metadata": {},
   "source": [
    "### 1. Two Sum\n",
    "https://leetcode.com/problems/two-sum/"
   ]
  },
  {
   "cell_type": "code",
   "execution_count": 93,
   "id": "agricultural-supplement",
   "metadata": {},
   "outputs": [
    {
     "name": "stdout",
     "output_type": "stream",
     "text": [
      "[1, 2]\n"
     ]
    }
   ],
   "source": [
    "class Solution:\n",
    "    def twoSum(self, nums, target: int):\n",
    "        outcome = list()\n",
    "        for i in range(0, len(nums)-1):\n",
    "            for j in range (i+1, len(nums)):\n",
    "                if (nums[i]+nums[j]) == target:\n",
    "                    outcome.append(i)\n",
    "                    outcome.append(j)\n",
    "                    \n",
    "        return outcome\n",
    "    \n",
    "if __name__ == '__main__':\n",
    "    s = Solution()\n",
    "    nums = [3,2,4]\n",
    "    target = 6\n",
    "    output = s.twoSum(nums, target)\n",
    "    print(output)"
   ]
  },
  {
   "cell_type": "markdown",
   "id": "outside-ghana",
   "metadata": {},
   "source": [
    "### 189. Rotate Array\n",
    "https://leetcode.com/problems/rotate-array/"
   ]
  },
  {
   "cell_type": "code",
   "execution_count": 101,
   "id": "painful-onion",
   "metadata": {},
   "outputs": [
    {
     "name": "stdout",
     "output_type": "stream",
     "text": [
      "[5, 6, 7, 1, 2, 3, 4]\n"
     ]
    }
   ],
   "source": [
    "class Solution:\n",
    "    def rotate(self, nums, k):\n",
    "        \"\"\"\n",
    "        Do not return anything, modify nums in-place instead.\n",
    "        \"\"\"\n",
    "        n = len(nums)\n",
    "        k %= n\n",
    "        \n",
    "        nums[:n-k] = nums[:n-k][::-1]\n",
    "        nums[n-k:] = nums[n-k:][::-1]\n",
    "        nums[:] = nums[::-1]\n",
    "        \n",
    "        \n",
    "#         k %= len(nums)\n",
    "#         self.reverse(nums, 0, len(nums)-1)\n",
    "#         self.reverse(nums, 0, k-1)\n",
    "#         self.reverse(nums, k, len(nums)-1)\n",
    "    \n",
    "#     def reverse (self, inputArray, start, end):\n",
    "#         while start < end:\n",
    "#             inputArray[start], inputArray[end] = inputArray[end], inputArray[start]\n",
    "#             start += 1\n",
    "#             end -= 1\n",
    "            \n",
    "if __name__ == '__main__':\n",
    "    nums = [1,2,3,4,5,6,7]\n",
    "    k = 3\n",
    "#     nums = [-1,-100,3,99]\n",
    "#     k = 2\n",
    "    s = Solution()\n",
    "    s.rotate(nums, k)\n",
    "    print(nums)"
   ]
  },
  {
   "cell_type": "code",
   "execution_count": 106,
   "id": "genetic-greenhouse",
   "metadata": {},
   "outputs": [
    {
     "name": "stdout",
     "output_type": "stream",
     "text": [
      "[4, 3, 2, 1]\n",
      "[7, 6, 5]\n"
     ]
    }
   ],
   "source": [
    "nums = [1,2,3,4,5,6,7]\n",
    "k = 3\n",
    "n = len(nums)\n",
    "print(nums[:n-k][::-1])\n",
    "print(nums[n-k:][::-1])"
   ]
  },
  {
   "cell_type": "markdown",
   "id": "demanding-gilbert",
   "metadata": {},
   "source": [
    "### Question for practice"
   ]
  },
  {
   "cell_type": "markdown",
   "id": "referenced-vitamin",
   "metadata": {},
   "source": [
    "1. Easy Questions\n",
    "    1. [Shuffle the Array](https://leetcode.com/problems/shuffle-the-array/)\n",
    "    2. [Flipping an Image](https://leetcode.com/problems/flipping-an-image/)\n",
    "    3. [Plus One](https://leetcode.com/problems/plus-one/)\n",
    "2. Medium Questions\n",
    "    1. [Sort Colors](https://leetcode.com/problems/sort-colors/)\n",
    "    2. [House Robber](https://leetcode.com/problems/house-robber/)\n",
    "    3. [Spiral Matrix](https://leetcode.com/problems/spiral-matrix/)"
   ]
  }
 ],
 "metadata": {
  "kernelspec": {
   "display_name": "Python 3",
   "language": "python",
   "name": "python3"
  },
  "language_info": {
   "codemirror_mode": {
    "name": "ipython",
    "version": 3
   },
   "file_extension": ".py",
   "mimetype": "text/x-python",
   "name": "python",
   "nbconvert_exporter": "python",
   "pygments_lexer": "ipython3",
   "version": "3.7.0"
  }
 },
 "nbformat": 4,
 "nbformat_minor": 5
}
